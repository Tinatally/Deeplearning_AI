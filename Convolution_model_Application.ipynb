{
 "cells": [
  {
   "cell_type": "markdown",
   "metadata": {},
   "source": [
    "# Convolutional Neural Networks: Application\n",
    "\n",
    "Welcome to Course 4's second assignment! In this notebook, you will:\n",
    "\n",
    "- Create a mood classifer using the TF Keras Sequential API\n",
    "- Build a ConvNet to identify sign language digits using the TF Keras Functional API\n",
    "\n",
    "**After this assignment you will be able to:**\n",
    "\n",
    "- Build and train a ConvNet in TensorFlow for a __binary__ classification problem\n",
    "- Build and train a ConvNet in TensorFlow for a __multiclass__ classification problem\n",
    "- Explain different use cases for the Sequential and Functional APIs\n",
    "\n",
    "To complete this assignment, you should already be familiar with TensorFlow. If you are not, please refer back to the **TensorFlow Tutorial** of the third week of Course 2 (\"**Improving deep neural networks**\")."
   ]
  },
  {
   "cell_type": "markdown",
   "metadata": {},
   "source": [
    "## Table of Contents\n",
    "\n",
    "- [1 - Packages](#1)\n",
    "    - [1.1 - Load the Data and Split the Data into Train/Test Sets](#1-1)\n",
    "- [2 - Layers in TF Keras](#2)\n",
    "- [3 - The Sequential API](#3)\n",
    "    - [3.1 - Create the Sequential Model](#3-1)\n",
    "        - [Exercise 1 - happyModel](#ex-1)\n",
    "    - [3.2 - Train and Evaluate the Model](#3-2)\n",
    "- [4 - The Functional API](#4)\n",
    "    - [4.1 - Load the SIGNS Dataset](#4-1)\n",
    "    - [4.2 - Split the Data into Train/Test Sets](#4-2)\n",
    "    - [4.3 - Forward Propagation](#4-3)\n",
    "        - [Exercise 2 - convolutional_model](#ex-2)\n",
    "    - [4.4 - Train the Model](#4-4)\n",
    "- [5 - History Object](#5)\n",
    "- [6 - Bibliography](#6)"
   ]
  },
  {
   "cell_type": "markdown",
   "metadata": {},
   "source": [
    "<a name='1'></a>\n",
    "## 1 - Packages\n",
    "\n",
    "As usual, begin by loading in the packages."
   ]
  },
  {
   "cell_type": "code",
   "execution_count": 1,
   "metadata": {},
   "outputs": [],
   "source": [
    "import math\n",
    "import numpy as np\n",
    "import h5py\n",
    "import matplotlib.pyplot as plt\n",
    "from matplotlib.pyplot import imread\n",
    "import scipy\n",
    "from PIL import Image\n",
    "import pandas as pd\n",
    "import tensorflow as tf\n",
    "import tensorflow.keras.layers as tfl\n",
    "from tensorflow.python.framework import ops\n",
    "from cnn_utils import *\n",
    "from test_utils import summary, comparator\n",
    "\n",
    "%matplotlib inline\n",
    "np.random.seed(1)"
   ]
  },
  {
   "cell_type": "markdown",
   "metadata": {},
   "source": [
    "<a name='1-1'></a>\n",
    "### 1.1 - Load the Data and Split the Data into Train/Test Sets\n",
    "\n",
    "You'll be using the Happy House dataset for this part of the assignment, which contains images of peoples' faces. Your task will be to build a ConvNet that determines whether the people in the images are smiling or not -- because they only get to enter the house if they're smiling!  "
   ]
  },
  {
   "cell_type": "code",
   "execution_count": 2,
   "metadata": {},
   "outputs": [
    {
     "name": "stdout",
     "output_type": "stream",
     "text": [
      "number of training examples = 600\n",
      "number of test examples = 150\n",
      "X_train shape: (600, 64, 64, 3)\n",
      "Y_train shape: (600, 1)\n",
      "X_test shape: (150, 64, 64, 3)\n",
      "Y_test shape: (150, 1)\n"
     ]
    }
   ],
   "source": [
    "X_train_orig, Y_train_orig, X_test_orig, Y_test_orig, classes = load_happy_dataset()\n",
    "\n",
    "# Normalize image vectors\n",
    "X_train = X_train_orig/255.\n",
    "X_test = X_test_orig/255.\n",
    "\n",
    "# Reshape\n",
    "Y_train = Y_train_orig.T\n",
    "Y_test = Y_test_orig.T\n",
    "\n",
    "print (\"number of training examples = \" + str(X_train.shape[0]))\n",
    "print (\"number of test examples = \" + str(X_test.shape[0]))\n",
    "print (\"X_train shape: \" + str(X_train.shape))\n",
    "print (\"Y_train shape: \" + str(Y_train.shape))\n",
    "print (\"X_test shape: \" + str(X_test.shape))\n",
    "print (\"Y_test shape: \" + str(Y_test.shape))"
   ]
  },
  {
   "cell_type": "markdown",
   "metadata": {},
   "source": [
    "You can display the images contained in the dataset. Images are **64x64** pixels in RGB format (3 channels)."
   ]
  },
  {
   "cell_type": "code",
   "execution_count": 3,
   "metadata": {},
   "outputs": [
    {
     "data": {
      "image/png": "[encoded data removed]",
      "text/plain": [
       "<Figure size 432x288 with 1 Axes>"
      ]
     },
     "metadata": {
      "needs_background": "light"
     },
     "output_type": "display_data"
    }
   ],
   "source": [
    "index = 124\n",
    "plt.imshow(X_train_orig[index]) #display sample training image\n",
    "plt.show()"
   ]
  },
  {
   "cell_type": "markdown",
   "metadata": {},
   "source": [
    "<a name='2'></a>\n",
    "## 2 - Layers in TF Keras \n",
    "\n",
    "In the previous assignment, you created layers manually in numpy. In TF Keras, you don't have to write code directly to create layers. Rather, TF Keras has pre-defined layers you can use. \n",
    "\n",
    "When you create a layer in TF Keras, you are creating a function that takes some input and transforms it into an output you can reuse later. Nice and easy! "
   ]
  },
  {
   "cell_type": "markdown",
   "metadata": {},
   "source": [
    "<a name='3'></a>\n",
    "## 3 - The Sequential API\n",
    "\n",
    "In the previous assignment, you built helper functions using `numpy` to understand the mechanics behind convolutional neural networks. Most practical applications of deep learning today are built using programming frameworks, which have many built-in functions you can simply call. Keras is a high-level abstraction built on top of TensorFlow, which allows for even more simplified and optimized model creation and training. \n",
    "\n",
    "For the first part of this assignment, you'll create a model using TF Keras' Sequential API, which allows you to build layer by layer, and is ideal for building models where each layer has **exactly one** input tensor and **one** output tensor. \n",
    "\n",
    "As you'll see, using the Sequential API is simple and straightforward, but is only appropriate for simpler, more straightforward tasks. Later in this notebook you'll spend some time building with a more flexible, powerful alternative: the Functional API. \n",
    " "
   ]
  },
  {
   "cell_type": "markdown",
   "metadata": {},
   "source": [
    "<a name='3-1'></a>\n",
    "### 3.1 - Create the Sequential Model\n",
    "\n",
    "As mentioned earlier, the TensorFlow Keras Sequential API can be used to build simple models with layer operations that proceed in a sequential order. \n",
    "\n",
    "You can also add layers incrementally to a Sequential model with the `.add()` method, or remove them using the `.pop()` method, much like you would in a regular Python list.\n",
    "\n",
    "Actually, you can think of a Sequential model as behaving like a list of layers. Like Python lists, Sequential layers are ordered, and the order in which they are specified matters.  If your model is non-linear or contains layers with multiple inputs or outputs, a Sequential model wouldn't be the right choice!\n",
    "\n",
    "For any layer construction in Keras, you'll need to specify the input shape in advance. This is because in Keras, the shape of the weights is based on the shape of the inputs. The weights are only created when the model first sees some input data. Sequential models can be created by passing a list of layers to the Sequential constructor, like you will do in the next assignment.\n",
    "\n",
    "<a name='ex-1'></a>\n",
    "### Exercise 1 - happyModel\n",
    "\n",
    "Implement the `happyModel` function below to build the following model: `ZEROPAD2D -> CONV2D -> BATCHNORM -> RELU -> MAXPOOL -> FLATTEN -> DENSE`. Take help from [tf.keras.layers](https://www.tensorflow.org/api_docs/python/tf/keras/layers) \n",
    "\n",
    "Also, plug in the following parameters for all the steps:\n",
    "\n",
    " - [ZeroPadding2D](https://www.tensorflow.org/api_docs/python/tf/keras/layers/ZeroPadding2D): padding 3, input shape 64 x 64 x 3\n",
    " - [Conv2D](https://www.tensorflow.org/api_docs/python/tf/keras/layers/Conv2D): Use 32 7x7 filters, stride 1\n",
    " - [BatchNormalization](https://www.tensorflow.org/api_docs/python/tf/keras/layers/BatchNormalization): for axis 3\n",
    " - [ReLU](https://www.tensorflow.org/api_docs/python/tf/keras/layers/ReLU)\n",
    " - [MaxPool2D](https://www.tensorflow.org/api_docs/python/tf/keras/layers/MaxPool2D): Using default parameters\n",
    " - [Flatten](https://www.tensorflow.org/api_docs/python/tf/keras/layers/Flatten) the previous output.\n",
    " - Fully-connected ([Dense](https://www.tensorflow.org/api_docs/python/tf/keras/layers/Dense)) layer: Apply a fully connected layer with 1 neuron and a sigmoid activation. \n",
    " \n",
    " \n",
    " **Hint:**\n",
    " \n",
    " Use **tfl** as shorthand for **tensorflow.keras.layers**"
   ]
  },
  {
   "cell_type": "code",
   "execution_count": 4,
   "metadata": {
    "deletable": false,
    "nbgrader": {
     "cell_type": "code",
     "checksum": "95d28b191f257bdd5b70c7b8952559d5",
     "grade": false,
     "grade_id": "cell-0e56d3fc28b69aec",
     "locked": false,
     "schema_version": 3,
     "solution": true,
     "task": false
    }
   },
   "outputs": [],
   "source": [
    "# GRADED FUNCTION: happyModel\n",
    "\n",
    "def happyModel():\n",
    "    \"\"\"\n",
    "    Implements the forward propagation for the binary classification model:\n",
    "    ZEROPAD2D -> CONV2D -> BATCHNORM -> RELU -> MAXPOOL -> FLATTEN -> DENSE\n",
    "    \n",
    "    Note that for simplicity and grading purposes, you'll hard-code all the values\n",
    "    such as the stride and kernel (filter) sizes. \n",
    "    Normally, functions should take these values as function parameters.\n",
    "    \n",
    "    Arguments:\n",
    "    None\n",
    "\n",
    "    Returns:\n",
    "    model -- TF Keras model (object containing the information for the entire training process) \n",
    "    \"\"\"\n",
    "    model = tf.keras.Sequential([\n",
    "            ## ZeroPadding2D with padding 3, input shape of 64 x 64 x 3\n",
    "            tfl.ZeroPadding2D(padding=(3,3), input_shape=(64,64,3),data_format=\"channels_last\"),\n",
    "            ## Conv2D with 32 7x7 filters and stride of 1\n",
    "            tfl.Conv2D(32, (7, 7), strides = (1, 1),name='conv0'),\n",
    "            ## BatchNormalization for axis 3\n",
    "            tfl.BatchNormalization(axis = 3,name='bnorm'),\n",
    "            ## ReLU\n",
    "            tfl.ReLU(),\n",
    "            ## Max Pooling 2D with default parameters\n",
    "            tfl.MaxPooling2D((2, 2),name='maxpool'),\n",
    "            ## Flatten layer\n",
    "            tfl.Flatten(),\n",
    "            ## Dense layer with 1 unit for output & 'sigmoid' activation\n",
    "            tfl.Dense(1, activation='sigmoid',name='FC')\n",
    "            # YOUR CODE STARTS HERE\n",
    "            \n",
    "            \n",
    "            # YOUR CODE ENDS HERE\n",
    "        ])\n",
    "    \n",
    "    return model"
   ]
  },
  {
   "cell_type": "code",
   "execution_count": 5,
   "metadata": {
    "deletable": false,
    "editable": false,
    "nbgrader": {
     "cell_type": "code",
     "checksum": "8d3575c950e2e78149be2d05d671c80d",
     "grade": true,
     "grade_id": "cell-e3e1046e5c33d775",
     "locked": true,
     "points": 10,
     "schema_version": 3,
     "solution": false,
     "task": false
    }
   },
   "outputs": [
    {
     "name": "stdout",
     "output_type": "stream",
     "text": [
      "['ZeroPadding2D', (None, 70, 70, 3), 0, ((3, 3), (3, 3))]\n",
      "['Conv2D', (None, 64, 64, 32), 4736, 'valid', 'linear', 'GlorotUniform']\n",
      "['BatchNormalization', (None, 64, 64, 32), 128]\n",
      "['ReLU', (None, 64, 64, 32), 0]\n",
      "['MaxPooling2D', (None, 32, 32, 32), 0, (2, 2), (2, 2), 'valid']\n",
      "['Flatten', (None, 32768), 0]\n",
      "['Dense', (None, 1), 32769, 'sigmoid']\n",
      "\u001b[32mAll tests passed!\u001b[0m\n"
     ]
    }
   ],
   "source": [
    "happy_model = happyModel()\n",
    "# Print a summary for each layer\n",
    "for layer in summary(happy_model):\n",
    "    print(layer)\n",
    "    \n",
    "output = [['ZeroPadding2D', (None, 70, 70, 3), 0, ((3, 3), (3, 3))],\n",
    "            ['Conv2D', (None, 64, 64, 32), 4736, 'valid', 'linear', 'GlorotUniform'],\n",
    "            ['BatchNormalization', (None, 64, 64, 32), 128],\n",
    "            ['ReLU', (None, 64, 64, 32), 0],\n",
    "            ['MaxPooling2D', (None, 32, 32, 32), 0, (2, 2), (2, 2), 'valid'],\n",
    "            ['Flatten', (None, 32768), 0],\n",
    "            ['Dense', (None, 1), 32769, 'sigmoid']]\n",
    "    \n",
    "comparator(summary(happy_model), output)"
   ]
  },
  {
   "cell_type": "markdown",
   "metadata": {},
   "source": [
    "Now that your model is created, you can compile it for training with an optimizer and loss of your choice. When the string `accuracy` is specified as a metric, the type of accuracy used will be automatically converted based on the loss function used. This is one of the many optimizations built into TensorFlow that make your life easier! If you'd like to read more on how the compiler operates, check the docs [here](https://www.tensorflow.org/api_docs/python/tf/keras/Model#compile)."
   ]
  },
  {
   "cell_type": "code",
   "execution_count": 6,
   "metadata": {},
   "outputs": [],
   "source": [
    "happy_model.compile(optimizer='adam',\n",
    "                   loss='binary_crossentropy',\n",
    "                   metrics=['accuracy'])"
   ]
  },
  {
   "cell_type": "markdown",
   "metadata": {},
   "source": [
    "It's time to check your model's parameters with the `.summary()` method. This will display the types of layers you have, the shape of the outputs, and how many parameters are in each layer. "
   ]
  },
  {
   "cell_type": "code",
   "execution_count": 7,
   "metadata": {},
   "outputs": [
    {
     "name": "stdout",
     "output_type": "stream",
     "text": [
      "Model: \"sequential\"\n",
      "_________________________________________________________________\n",
      "Layer (type)                 Output Shape              Param #   \n",
      "=================================================================\n",
      "zero_padding2d (ZeroPadding2 (None, 70, 70, 3)         0         \n",
      "_________________________________________________________________\n",
      "conv0 (Conv2D)               (None, 64, 64, 32)        4736      \n",
      "_________________________________________________________________\n",
      "bnorm (BatchNormalization)   (None, 64, 64, 32)        128       \n",
      "_________________________________________________________________\n",
      "re_lu (ReLU)                 (None, 64, 64, 32)        0         \n",
      "_________________________________________________________________\n",
      "maxpool (MaxPooling2D)       (None, 32, 32, 32)        0         \n",
      "_________________________________________________________________\n",
      "flatten (Flatten)            (None, 32768)             0         \n",
      "_________________________________________________________________\n",
      "FC (Dense)                   (None, 1)                 32769     \n",
      "=================================================================\n",
      "Total params: 37,633\n",
      "Trainable params: 37,569\n",
      "Non-trainable params: 64\n",
      "_________________________________________________________________\n"
     ]
    }
   ],
   "source": [
    "happy_model.summary()"
   ]
  },
  {
   "cell_type": "markdown",
   "metadata": {},
   "source": [
    "<a name='3-2'></a>\n",
    "### 3.2 - Train and Evaluate the Model\n",
    "\n",
    "After creating the model, compiling it with your choice of optimizer and loss function, and doing a sanity check on its contents, you are now ready to build! \n",
    "\n",
    "Simply call `.fit()` to train. That's it! No need for mini-batching, saving, or complex backpropagation computations. That's all been done for you, as you're using a TensorFlow dataset with the batches specified already. You do have the option to specify epoch number or minibatch size if you like (for example, in the case of an un-batched dataset)."
   ]
  },
  {
   "cell_type": "code",
   "execution_count": 8,
   "metadata": {},
   "outputs": [
    {
     "name": "stdout",
     "output_type": "stream",
     "text": [
      "Epoch 1/10\n",
      "38/38 [==============================] - 4s 92ms/step - loss: 1.3089 - accuracy: 0.7150\n",
      "Epoch 2/10\n",
      "38/38 [==============================] - 3s 90ms/step - loss: 0.2443 - accuracy: 0.9017\n",
      "Epoch 3/10\n",
      "38/38 [==============================] - 3s 89ms/step - loss: 0.1500 - accuracy: 0.9400\n",
      "Epoch 4/10\n",
      "38/38 [==============================] - 3s 89ms/step - loss: 0.2450 - accuracy: 0.9133\n",
      "Epoch 5/10\n",
      "38/38 [==============================] - 3s 89ms/step - loss: 0.1231 - accuracy: 0.9550\n",
      "Epoch 6/10\n",
      "38/38 [==============================] - 3s 87ms/step - loss: 0.2437 - accuracy: 0.9083\n",
      "Epoch 7/10\n",
      "38/38 [==============================] - 3s 90ms/step - loss: 0.0999 - accuracy: 0.9683\n",
      "Epoch 8/10\n",
      "38/38 [==============================] - 3s 87ms/step - loss: 0.1159 - accuracy: 0.9550\n",
      "Epoch 9/10\n",
      "38/38 [==============================] - 3s 89ms/step - loss: 0.0544 - accuracy: 0.9833\n",
      "Epoch 10/10\n",
      "38/38 [==============================] - 3s 87ms/step - loss: 0.0613 - accuracy: 0.9733\n"
     ]
    },
    {
     "data": {
      "text/plain": [
       "<tensorflow.python.keras.callbacks.History at 0x7f20c0f39a10>"
      ]
     },
     "execution_count": 8,
     "metadata": {},
     "output_type": "execute_result"
    }
   ],
   "source": [
    "happy_model.fit(X_train, Y_train, epochs=10, batch_size=16)"
   ]
  },
  {
   "cell_type": "markdown",
   "metadata": {},
   "source": [
    "After that completes, just use `.evaluate()` to evaluate against your test set. This function will print the value of the loss function and the performance metrics specified during the compilation of the model. In this case, the `binary_crossentropy` and the `accuracy` respectively."
   ]
  },
  {
   "cell_type": "code",
   "execution_count": 9,
   "metadata": {},
   "outputs": [
    {
     "name": "stdout",
     "output_type": "stream",
     "text": [
      "5/5 [==============================] - 0s 35ms/step - loss: 0.4988 - accuracy: 0.7600\n"
     ]
    },
    {
     "data": {
      "text/plain": [
       "[0.49881598353385925, 0.7599999904632568]"
      ]
     },
     "execution_count": 9,
     "metadata": {},
     "output_type": "execute_result"
    }
   ],
   "source": [
    "happy_model.evaluate(X_test, Y_test)"
   ]
  },
  {
   "cell_type": "markdown",
   "metadata": {},
   "source": [
    "Easy, right? But what if you need to build a model with shared layers, branches, or multiple inputs and outputs? This is where Sequential, with its beautifully simple yet limited functionality, won't be able to help you. \n",
    "\n",
    "Next up: Enter the Functional API, your slightly more complex, highly flexible friend.  "
   ]
  },
  {
   "cell_type": "markdown",
   "metadata": {},
   "source": [
    "<a name='4'></a>\n",
    "## 4 - The Functional API"
   ]
  },
  {
   "cell_type": "markdown",
   "metadata": {},
   "source": [
    "Welcome to the second half of the assignment, where you'll use Keras' flexible [Functional API](https://www.tensorflow.org/guide/keras/functional) to build a ConvNet that can differentiate between 6 sign language digits. \n",
    "\n",
    "The Functional API can handle models with non-linear topology, shared layers, as well as layers with multiple inputs or outputs. Imagine that, where the Sequential API requires the model to move in a linear fashion through its layers, the Functional API allows much more flexibility. Where Sequential is a straight line, a Functional model is a graph, where the nodes of the layers can connect in many more ways than one. \n",
    "\n",
    "In the visual example below, the one possible direction of the movement Sequential model is shown in contrast to a skip connection, which is just one of the many ways a Functional model can be constructed. A skip connection, as you might have guessed, skips some layer in the network and feeds the output to a later layer in the network. Don't worry, you'll be spending more time with skip connections very soon! "
   ]
  },
  {
   "cell_type": "markdown",
   "metadata": {},
   "source": [
    "<img src=\"images/seq_vs_func.png\" style=\"width:350px;height:200px;\">"
   ]
  },
  {
   "cell_type": "markdown",
   "metadata": {},
   "source": [
    "<a name='4-1'></a>\n",
    "### 4.1 - Load the SIGNS Dataset\n",
    "\n",
    "As a reminder, the SIGNS dataset is a collection of 6 signs representing numbers from 0 to 5."
   ]
  },
  {
   "cell_type": "code",
   "execution_count": 10,
   "metadata": {},
   "outputs": [],
   "source": [
    "# Loading the data (signs)\n",
    "X_train_orig, Y_train_orig, X_test_orig, Y_test_orig, classes = load_signs_dataset()"
   ]
  },
  {
   "cell_type": "markdown",
   "metadata": {},
   "source": [
    "<img src=\"images/SIGNS.png\" style=\"width:800px;height:300px;\">\n",
    "\n",
    "The next cell will show you an example of a labelled image in the dataset. Feel free to change the value of `index` below and re-run to see different examples. "
   ]
  },
  {
   "cell_type": "code",
   "execution_count": 11,
   "metadata": {},
   "outputs": [
    {
     "name": "stdout",
     "output_type": "stream",
     "text": [
      "y = 4\n"
     ]
    },
    {
     "data": {
      "image/png": "[encoded data removed]",
      "text/plain": [
       "<Figure size 432x288 with 1 Axes>"
      ]
     },
     "metadata": {
      "needs_background": "light"
     },
     "output_type": "display_data"
    }
   ],
   "source": [
    "# Example of an image from the dataset\n",
    "index = 9\n",
    "plt.imshow(X_train_orig[index])\n",
    "print (\"y = \" + str(np.squeeze(Y_train_orig[:, index])))"
   ]
  },
  {
   "cell_type": "markdown",
   "metadata": {},
   "source": [
    "<a name='4-2'></a>\n",
    "### 4.2 - Split the Data into Train/Test Sets\n",
    "\n",
    "In Course 2, you built a fully-connected network for this dataset. But since this is an image dataset, it is more natural to apply a ConvNet to it.\n",
    "\n",
    "To get started, let's examine the shapes of your data. "
   ]
  },
  {
   "cell_type": "code",
   "execution_count": 12,
   "metadata": {},
   "outputs": [
    {
     "name": "stdout",
     "output_type": "stream",
     "text": [
      "number of training examples = 1080\n",
      "number of test examples = 120\n",
      "X_train shape: (1080, 64, 64, 3)\n",
      "Y_train shape: (1080, 6)\n",
      "X_test shape: (120, 64, 64, 3)\n",
      "Y_test shape: (120, 6)\n"
     ]
    }
   ],
   "source": [
    "X_train = X_train_orig/255.\n",
    "X_test = X_test_orig/255.\n",
    "Y_train = convert_to_one_hot(Y_train_orig, 6).T\n",
    "Y_test = convert_to_one_hot(Y_test_orig, 6).T\n",
    "print (\"number of training examples = \" + str(X_train.shape[0]))\n",
    "print (\"number of test examples = \" + str(X_test.shape[0]))\n",
    "print (\"X_train shape: \" + str(X_train.shape))\n",
    "print (\"Y_train shape: \" + str(Y_train.shape))\n",
    "print (\"X_test shape: \" + str(X_test.shape))\n",
    "print (\"Y_test shape: \" + str(Y_test.shape))"
   ]
  },
  {
   "cell_type": "markdown",
   "metadata": {},
   "source": [
    "<a name='4-3'></a>\n",
    "### 4.3 - Forward Propagation\n",
    "\n",
    "In TensorFlow, there are built-in functions that implement the convolution steps for you. By now, you should be familiar with how TensorFlow builds computational graphs. In the [Functional API](https://www.tensorflow.org/guide/keras/functional), you create a graph of layers. This is what allows such great flexibility.\n",
    "\n",
    "However, the following model could also be defined using the Sequential API since the information flow is on a single line. But don't deviate. What we want you to learn is to use the functional API.\n",
    "\n",
    "Begin building your graph of layers by creating an input node that functions as a callable object:\n",
    "\n",
    "- **input_img = tf.keras.Input(shape=input_shape):** \n",
    "\n",
    "Then, create a new node in the graph of layers by calling a layer on the `input_img` object: \n",
    "\n",
    "- **tf.keras.layers.Conv2D(filters= ... , kernel_size= ... , padding='same')(input_img):** Read the full documentation on [Conv2D](https://www.tensorflow.org/api_docs/python/tf/keras/layers/Conv2D).\n",
    "\n",
    "- **tf.keras.layers.MaxPool2D(pool_size=(f, f), strides=(s, s), padding='same'):** `MaxPool2D()` downsamples your input using a window of size (f, f) and strides of size (s, s) to carry out max pooling over each window.  For max pooling, you usually operate on a single example at a time and a single channel at a time. Read the full documentation on [MaxPool2D](https://www.tensorflow.org/api_docs/python/tf/keras/layers/MaxPool2D).\n",
    "\n",
    "- **tf.keras.layers.ReLU():** computes the elementwise ReLU of Z (which can be any shape). You can read the full documentation on [ReLU](https://www.tensorflow.org/api_docs/python/tf/keras/layers/ReLU).\n",
    "\n",
    "- **tf.keras.layers.Flatten()**: given a tensor \"P\", this function takes each training (or test) example in the batch and flattens it into a 1D vector.  \n",
    "\n",
    "    * If a tensor P has the shape (batch_size,h,w,c), it returns a flattened tensor with shape (batch_size, k), where $k=h \\times w \\times c$.  \"k\" equals the product of all the dimension sizes other than the first dimension.\n",
    "    \n",
    "    * For example, given a tensor with dimensions [100, 2, 3, 4], it flattens the tensor to be of shape [100, 24], where 24 = 2 * 3 * 4.  You can read the full documentation on [Flatten](https://www.tensorflow.org/api_docs/python/tf/keras/layers/Flatten).\n",
    "\n",
    "- **tf.keras.layers.Dense(units= ... , activation='softmax')(F):** given the flattened input F, it returns the output computed using a fully connected layer. You can read the full documentation on [Dense](https://www.tensorflow.org/api_docs/python/tf/keras/layers/Dense).\n",
    "\n",
    "In the last function above (`tf.keras.layers.Dense()`), the fully connected layer automatically initializes weights in the graph and keeps on training them as you train the model. Hence, you did not need to initialize those weights when initializing the parameters.\n",
    "\n",
    "Lastly, before creating the model, you'll need to define the output using the last of the function's compositions (in this example, a Dense layer): \n",
    "\n",
    "- **outputs = tf.keras.layers.Dense(units=6, activation='softmax')(F)**\n",
    "\n",
    "\n",
    "#### Window, kernel, filter, pool\n",
    "\n",
    "The words \"kernel\" and \"filter\" are used to refer to the same thing. The word \"filter\" accounts for the amount of \"kernels\" that will be used in a single convolution layer. \"Pool\" is the name of the operation that takes the max or average value of the kernels. \n",
    "\n",
    "This is why the parameter `pool_size` refers to `kernel_size`, and you use `(f,f)` to refer to the filter size. \n",
    "\n",
    "Pool size and kernel size refer to the same thing in different objects - They refer to the shape of the window where the operation takes place. "
   ]
  },
  {
   "cell_type": "markdown",
   "metadata": {},
   "source": [
    "<a name='ex-2'></a>\n",
    "### Exercise 2 - convolutional_model\n",
    "\n",
    "Implement the `convolutional_model` function below to build the following model: `CONV2D -> RELU -> MAXPOOL -> CONV2D -> RELU -> MAXPOOL -> FLATTEN -> DENSE`. Use the functions above! \n",
    "\n",
    "Also, plug in the following parameters for all the steps:\n",
    "\n",
    " - [Conv2D](https://www.tensorflow.org/api_docs/python/tf/keras/layers/Conv2D): Use 8 4 by 4 filters, stride 1, padding is \"SAME\"\n",
    " - [ReLU](https://www.tensorflow.org/api_docs/python/tf/keras/layers/ReLU)\n",
    " - [MaxPool2D](https://www.tensorflow.org/api_docs/python/tf/keras/layers/MaxPool2D): Use an 8 by 8 filter size and an 8 by 8 stride, padding is \"SAME\"\n",
    " - **Conv2D**: Use 16 2 by 2 filters, stride 1, padding is \"SAME\"\n",
    " - **ReLU**\n",
    " - **MaxPool2D**: Use a 4 by 4 filter size and a 4 by 4 stride, padding is \"SAME\"\n",
    " - [Flatten](https://www.tensorflow.org/api_docs/python/tf/keras/layers/Flatten) the previous output.\n",
    " - Fully-connected ([Dense](https://www.tensorflow.org/api_docs/python/tf/keras/layers/Dense)) layer: Apply a fully connected layer with 6 neurons and a softmax activation. "
   ]
  },
  {
   "cell_type": "code",
   "execution_count": 13,
   "metadata": {
    "deletable": false,
    "nbgrader": {
     "cell_type": "code",
     "checksum": "f58643806aa8380c96225fc8b4c5e7aa",
     "grade": false,
     "grade_id": "cell-dac51744a9e03f51",
     "locked": false,
     "schema_version": 3,
     "solution": true,
     "task": false
    }
   },
   "outputs": [],
   "source": [
    "# GRADED FUNCTION: convolutional_model\n",
    "\n",
    "def convolutional_model(input_shape):\n",
    "    \"\"\"\n",
    "    Implements the forward propagation for the model:\n",
    "    CONV2D -> RELU -> MAXPOOL -> CONV2D -> RELU -> MAXPOOL -> FLATTEN -> DENSE\n",
    "    \n",
    "    Note that for simplicity and grading purposes, you'll hard-code some values\n",
    "    such as the stride and kernel (filter) sizes. \n",
    "    Normally, functions should take these values as function parameters.\n",
    "    \n",
    "    Arguments:\n",
    "    input_img -- input dataset, of shape (input_shape)\n",
    "\n",
    "    Returns:\n",
    "    model -- TF Keras model (object containing the information for the entire training process) \n",
    "    \"\"\"\n",
    "\n",
    "    input_img = tf.keras.Input(shape=input_shape)\n",
    "    ## CONV2D: 8 filters 4x4, stride of 1, padding 'SAME'\n",
    "    Z1 = tfl.Conv2D(8,(4,4),strides=(1,1),padding='same')(input_img)\n",
    "    ## RELU\n",
    "    A1 = tfl.ReLU()(Z1)\n",
    "    ## MAXPOOL: window 8x8, stride 8, padding 'SAME'\n",
    "    P1 = tfl.MaxPooling2D((8,8),strides=(8,8),padding='same')(A1)\n",
    "    ## CONV2D: 16 filters 2x2, stride 1, padding 'SAME'\n",
    "    Z2 = tfl.Conv2D(16,(2,2),strides=(1,1),padding='same')(P1)\n",
    "    ## RELU\n",
    "    A2 = tfl.ReLU()(Z2)\n",
    "    ## MAXPOOL: window 4x4, stride 4, padding 'SAME'\n",
    "    P2 = tfl.MaxPooling2D(4,strides=(4,4),padding='same')(A2)\n",
    "    ## FLATTEN\n",
    "    F = tfl.Flatten()(P2)\n",
    "    #Dense layer \n",
    "    ## 6 neurons in output layer. Hint: one of the arguments should be \"activation='softmax'\" \n",
    "    outputs = tfl.Dense(6,activation='softmax')(F)\n",
    "    # YOUR CODE STARTS HERE\n",
    "    \n",
    "    \n",
    "    # YOUR CODE ENDS HERE\n",
    "    model = tf.keras.Model(inputs=input_img, outputs=outputs)\n",
    "    return model"
   ]
  },
  {
   "cell_type": "code",
   "execution_count": 14,
   "metadata": {
    "deletable": false,
    "editable": false,
    "nbgrader": {
     "cell_type": "code",
     "checksum": "483d626949930a0b0ef20997e7c6ba72",
     "grade": true,
     "grade_id": "cell-45d22e92042174c9",
     "locked": true,
     "points": 10,
     "schema_version": 3,
     "solution": false,
     "task": false
    }
   },
   "outputs": [
    {
     "name": "stdout",
     "output_type": "stream",
     "text": [
      "Model: \"functional_1\"\n",
      "_________________________________________________________________\n",
      "Layer (type)                 Output Shape              Param #   \n",
      "=================================================================\n",
      "input_1 (InputLayer)         [(None, 64, 64, 3)]       0         \n",
      "_________________________________________________________________\n",
      "conv2d (Conv2D)              (None, 64, 64, 8)         392       \n",
      "_________________________________________________________________\n",
      "re_lu_1 (ReLU)               (None, 64, 64, 8)         0         \n",
      "_________________________________________________________________\n",
      "max_pooling2d (MaxPooling2D) (None, 8, 8, 8)           0         \n",
      "_________________________________________________________________\n",
      "conv2d_1 (Conv2D)            (None, 8, 8, 16)          528       \n",
      "_________________________________________________________________\n",
      "re_lu_2 (ReLU)               (None, 8, 8, 16)          0         \n",
      "_________________________________________________________________\n",
      "max_pooling2d_1 (MaxPooling2 (None, 2, 2, 16)          0         \n",
      "_________________________________________________________________\n",
      "flatten_1 (Flatten)          (None, 64)                0         \n",
      "_________________________________________________________________\n",
      "dense (Dense)                (None, 6)                 390       \n",
      "=================================================================\n",
      "Total params: 1,310\n",
      "Trainable params: 1,310\n",
      "Non-trainable params: 0\n",
      "_________________________________________________________________\n",
      "\u001b[32mAll tests passed!\u001b[0m\n"
     ]
    }
   ],
   "source": [
    "conv_model = convolutional_model((64, 64, 3))\n",
    "conv_model.compile(optimizer='adam',\n",
    "                  loss='categorical_crossentropy',\n",
    "                  metrics=['accuracy'])\n",
    "conv_model.summary()\n",
    "    \n",
    "output = [['InputLayer', [(None, 64, 64, 3)], 0],\n",
    "        ['Conv2D', (None, 64, 64, 8), 392, 'same', 'linear', 'GlorotUniform'],\n",
    "        ['ReLU', (None, 64, 64, 8), 0],\n",
    "        ['MaxPooling2D', (None, 8, 8, 8), 0, (8, 8), (8, 8), 'same'],\n",
    "        ['Conv2D', (None, 8, 8, 16), 528, 'same', 'linear', 'GlorotUniform'],\n",
    "        ['ReLU', (None, 8, 8, 16), 0],\n",
    "        ['MaxPooling2D', (None, 2, 2, 16), 0, (4, 4), (4, 4), 'same'],\n",
    "        ['Flatten', (None, 64), 0],\n",
    "        ['Dense', (None, 6), 390, 'softmax']]\n",
    "    \n",
    "comparator(summary(conv_model), output)"
   ]
  },
  {
   "cell_type": "markdown",
   "metadata": {},
   "source": [
    "Both the Sequential and Functional APIs return a TF Keras model object. The only difference is how inputs are handled inside the object model! "
   ]
  },
  {
   "cell_type": "markdown",
   "metadata": {},
   "source": [
    "<a name='4-4'></a>\n",
    "### 4.4 - Train the Model"
   ]
  },
  {
   "cell_type": "code",
   "execution_count": 15,
   "metadata": {},
   "outputs": [
    {
     "name": "stdout",
     "output_type": "stream",
     "text": [
      "Epoch 1/100\n",
      "17/17 [==============================] - 2s 111ms/step - loss: 1.8002 - accuracy: 0.1694 - val_loss: 1.7893 - val_accuracy: 0.1250\n",
      "Epoch 2/100\n",
      "17/17 [==============================] - 2s 95ms/step - loss: 1.7906 - accuracy: 0.1907 - val_loss: 1.7858 - val_accuracy: 0.2417\n",
      "Epoch 3/100\n",
      "17/17 [==============================] - 2s 95ms/step - loss: 1.7879 - accuracy: 0.2009 - val_loss: 1.7824 - val_accuracy: 0.2917\n",
      "Epoch 4/100\n",
      "17/17 [==============================] - 2s 95ms/step - loss: 1.7844 - accuracy: 0.2361 - val_loss: 1.7794 - val_accuracy: 0.2833\n",
      "Epoch 5/100\n",
      "17/17 [==============================] - 2s 94ms/step - loss: 1.7816 - accuracy: 0.2546 - val_loss: 1.7755 - val_accuracy: 0.3167\n",
      "Epoch 6/100\n",
      "17/17 [==============================] - 2s 95ms/step - loss: 1.7778 - accuracy: 0.2676 - val_loss: 1.7709 - val_accuracy: 0.3083\n",
      "Epoch 7/100\n",
      "17/17 [==============================] - 2s 94ms/step - loss: 1.7733 - accuracy: 0.2620 - val_loss: 1.7658 - val_accuracy: 0.3167\n",
      "Epoch 8/100\n",
      "17/17 [==============================] - 2s 95ms/step - loss: 1.7680 - accuracy: 0.2704 - val_loss: 1.7592 - val_accuracy: 0.3417\n",
      "Epoch 9/100\n",
      "17/17 [==============================] - 2s 95ms/step - loss: 1.7613 - accuracy: 0.2870 - val_loss: 1.7512 - val_accuracy: 0.3250\n",
      "Epoch 10/100\n",
      "17/17 [==============================] - 2s 95ms/step - loss: 1.7527 - accuracy: 0.2898 - val_loss: 1.7407 - val_accuracy: 0.3333\n",
      "Epoch 11/100\n",
      "17/17 [==============================] - 2s 95ms/step - loss: 1.7420 - accuracy: 0.3157 - val_loss: 1.7266 - val_accuracy: 0.3917\n",
      "Epoch 12/100\n",
      "17/17 [==============================] - 2s 100ms/step - loss: 1.7281 - accuracy: 0.3519 - val_loss: 1.7095 - val_accuracy: 0.3917\n",
      "Epoch 13/100\n",
      "17/17 [==============================] - 2s 100ms/step - loss: 1.7111 - accuracy: 0.3704 - val_loss: 1.6887 - val_accuracy: 0.4417\n",
      "Epoch 14/100\n",
      "17/17 [==============================] - 2s 100ms/step - loss: 1.6899 - accuracy: 0.3898 - val_loss: 1.6626 - val_accuracy: 0.4250\n",
      "Epoch 15/100\n",
      "17/17 [==============================] - 2s 96ms/step - loss: 1.6642 - accuracy: 0.4176 - val_loss: 1.6312 - val_accuracy: 0.4500\n",
      "Epoch 16/100\n",
      "17/17 [==============================] - 2s 95ms/step - loss: 1.6318 - accuracy: 0.4380 - val_loss: 1.5920 - val_accuracy: 0.4750\n",
      "Epoch 17/100\n",
      "17/17 [==============================] - 2s 95ms/step - loss: 1.5963 - accuracy: 0.4639 - val_loss: 1.5510 - val_accuracy: 0.5167\n",
      "Epoch 18/100\n",
      "17/17 [==============================] - 2s 95ms/step - loss: 1.5563 - accuracy: 0.4750 - val_loss: 1.5048 - val_accuracy: 0.5500\n",
      "Epoch 19/100\n",
      "17/17 [==============================] - 2s 95ms/step - loss: 1.5134 - accuracy: 0.4954 - val_loss: 1.4569 - val_accuracy: 0.5583\n",
      "Epoch 20/100\n",
      "17/17 [==============================] - 2s 95ms/step - loss: 1.4666 - accuracy: 0.5093 - val_loss: 1.4055 - val_accuracy: 0.5667\n",
      "Epoch 21/100\n",
      "17/17 [==============================] - 2s 94ms/step - loss: 1.4222 - accuracy: 0.5241 - val_loss: 1.3587 - val_accuracy: 0.5667\n",
      "Epoch 22/100\n",
      "17/17 [==============================] - 2s 94ms/step - loss: 1.3763 - accuracy: 0.5398 - val_loss: 1.3117 - val_accuracy: 0.6000\n",
      "Epoch 23/100\n",
      "17/17 [==============================] - 2s 95ms/step - loss: 1.3303 - accuracy: 0.5648 - val_loss: 1.2687 - val_accuracy: 0.6000\n",
      "Epoch 24/100\n",
      "17/17 [==============================] - 2s 95ms/step - loss: 1.2874 - accuracy: 0.5815 - val_loss: 1.2282 - val_accuracy: 0.6083\n",
      "Epoch 25/100\n",
      "17/17 [==============================] - 2s 94ms/step - loss: 1.2460 - accuracy: 0.5981 - val_loss: 1.1901 - val_accuracy: 0.6167\n",
      "Epoch 26/100\n",
      "17/17 [==============================] - 2s 95ms/step - loss: 1.2071 - accuracy: 0.6046 - val_loss: 1.1540 - val_accuracy: 0.6167\n",
      "Epoch 27/100\n",
      "17/17 [==============================] - 2s 100ms/step - loss: 1.1717 - accuracy: 0.6130 - val_loss: 1.1201 - val_accuracy: 0.6250\n",
      "Epoch 28/100\n",
      "17/17 [==============================] - 2s 95ms/step - loss: 1.1384 - accuracy: 0.6213 - val_loss: 1.0883 - val_accuracy: 0.6333\n",
      "Epoch 29/100\n",
      "17/17 [==============================] - 2s 95ms/step - loss: 1.1065 - accuracy: 0.6278 - val_loss: 1.0577 - val_accuracy: 0.6333\n",
      "Epoch 30/100\n",
      "17/17 [==============================] - 2s 95ms/step - loss: 1.0770 - accuracy: 0.6407 - val_loss: 1.0306 - val_accuracy: 0.6417\n",
      "Epoch 31/100\n",
      "17/17 [==============================] - 2s 95ms/step - loss: 1.0491 - accuracy: 0.6481 - val_loss: 1.0051 - val_accuracy: 0.6333\n",
      "Epoch 32/100\n",
      "17/17 [==============================] - 2s 95ms/step - loss: 1.0230 - accuracy: 0.6583 - val_loss: 0.9813 - val_accuracy: 0.6417\n",
      "Epoch 33/100\n",
      "17/17 [==============================] - 2s 99ms/step - loss: 0.9993 - accuracy: 0.6620 - val_loss: 0.9597 - val_accuracy: 0.6667\n",
      "Epoch 34/100\n",
      "17/17 [==============================] - 2s 100ms/step - loss: 0.9770 - accuracy: 0.6704 - val_loss: 0.9394 - val_accuracy: 0.6667\n",
      "Epoch 35/100\n",
      "17/17 [==============================] - 2s 95ms/step - loss: 0.9561 - accuracy: 0.6824 - val_loss: 0.9205 - val_accuracy: 0.6833\n",
      "Epoch 36/100\n",
      "17/17 [==============================] - 2s 100ms/step - loss: 0.9361 - accuracy: 0.6898 - val_loss: 0.9026 - val_accuracy: 0.6833\n",
      "Epoch 37/100\n",
      "17/17 [==============================] - 2s 100ms/step - loss: 0.9177 - accuracy: 0.7037 - val_loss: 0.8856 - val_accuracy: 0.7000\n",
      "Epoch 38/100\n",
      "17/17 [==============================] - 2s 95ms/step - loss: 0.9003 - accuracy: 0.7083 - val_loss: 0.8699 - val_accuracy: 0.6917\n",
      "Epoch 39/100\n",
      "17/17 [==============================] - 2s 95ms/step - loss: 0.8839 - accuracy: 0.7120 - val_loss: 0.8553 - val_accuracy: 0.6833\n",
      "Epoch 40/100\n",
      "17/17 [==============================] - 2s 95ms/step - loss: 0.8685 - accuracy: 0.7157 - val_loss: 0.8416 - val_accuracy: 0.6833\n",
      "Epoch 41/100\n",
      "17/17 [==============================] - 2s 95ms/step - loss: 0.8536 - accuracy: 0.7213 - val_loss: 0.8283 - val_accuracy: 0.6917\n",
      "Epoch 42/100\n",
      "17/17 [==============================] - 2s 95ms/step - loss: 0.8391 - accuracy: 0.7278 - val_loss: 0.8153 - val_accuracy: 0.6917\n",
      "Epoch 43/100\n",
      "17/17 [==============================] - 2s 95ms/step - loss: 0.8254 - accuracy: 0.7352 - val_loss: 0.8031 - val_accuracy: 0.7000\n",
      "Epoch 44/100\n",
      "17/17 [==============================] - 2s 96ms/step - loss: 0.8122 - accuracy: 0.7370 - val_loss: 0.7913 - val_accuracy: 0.7000\n",
      "Epoch 45/100\n",
      "17/17 [==============================] - 2s 94ms/step - loss: 0.7996 - accuracy: 0.7426 - val_loss: 0.7799 - val_accuracy: 0.7167\n",
      "Epoch 46/100\n",
      "17/17 [==============================] - 2s 95ms/step - loss: 0.7875 - accuracy: 0.7444 - val_loss: 0.7691 - val_accuracy: 0.7167\n",
      "Epoch 47/100\n",
      "17/17 [==============================] - 2s 100ms/step - loss: 0.7756 - accuracy: 0.7491 - val_loss: 0.7588 - val_accuracy: 0.7167\n",
      "Epoch 48/100\n",
      "17/17 [==============================] - 2s 95ms/step - loss: 0.7644 - accuracy: 0.7509 - val_loss: 0.7487 - val_accuracy: 0.7250\n",
      "Epoch 49/100\n",
      "17/17 [==============================] - 2s 95ms/step - loss: 0.7537 - accuracy: 0.7519 - val_loss: 0.7391 - val_accuracy: 0.7250\n",
      "Epoch 50/100\n",
      "17/17 [==============================] - 2s 95ms/step - loss: 0.7432 - accuracy: 0.7565 - val_loss: 0.7301 - val_accuracy: 0.7333\n",
      "Epoch 51/100\n",
      "17/17 [==============================] - 2s 95ms/step - loss: 0.7329 - accuracy: 0.7620 - val_loss: 0.7212 - val_accuracy: 0.7333\n",
      "Epoch 52/100\n",
      "17/17 [==============================] - 2s 95ms/step - loss: 0.7228 - accuracy: 0.7676 - val_loss: 0.7124 - val_accuracy: 0.7500\n",
      "Epoch 53/100\n",
      "17/17 [==============================] - 2s 94ms/step - loss: 0.7133 - accuracy: 0.7713 - val_loss: 0.7040 - val_accuracy: 0.7500\n",
      "Epoch 54/100\n",
      "17/17 [==============================] - 2s 100ms/step - loss: 0.7040 - accuracy: 0.7741 - val_loss: 0.6959 - val_accuracy: 0.7500\n",
      "Epoch 55/100\n",
      "17/17 [==============================] - 2s 95ms/step - loss: 0.6948 - accuracy: 0.7778 - val_loss: 0.6879 - val_accuracy: 0.7500\n",
      "Epoch 56/100\n",
      "17/17 [==============================] - 2s 95ms/step - loss: 0.6863 - accuracy: 0.7796 - val_loss: 0.6803 - val_accuracy: 0.7583\n",
      "Epoch 57/100\n",
      "17/17 [==============================] - 2s 95ms/step - loss: 0.6777 - accuracy: 0.7824 - val_loss: 0.6725 - val_accuracy: 0.7583\n",
      "Epoch 58/100\n"
     ]
    },
    {
     "name": "stdout",
     "output_type": "stream",
     "text": [
      "17/17 [==============================] - 2s 95ms/step - loss: 0.6695 - accuracy: 0.7889 - val_loss: 0.6650 - val_accuracy: 0.7583\n",
      "Epoch 59/100\n",
      "17/17 [==============================] - 2s 95ms/step - loss: 0.6614 - accuracy: 0.7907 - val_loss: 0.6577 - val_accuracy: 0.7583\n",
      "Epoch 60/100\n",
      "17/17 [==============================] - 2s 95ms/step - loss: 0.6537 - accuracy: 0.7926 - val_loss: 0.6511 - val_accuracy: 0.7583\n",
      "Epoch 61/100\n",
      "17/17 [==============================] - 2s 95ms/step - loss: 0.6462 - accuracy: 0.7944 - val_loss: 0.6446 - val_accuracy: 0.7583\n",
      "Epoch 62/100\n",
      "17/17 [==============================] - 2s 95ms/step - loss: 0.6389 - accuracy: 0.7972 - val_loss: 0.6383 - val_accuracy: 0.7833\n",
      "Epoch 63/100\n",
      "17/17 [==============================] - 2s 95ms/step - loss: 0.6317 - accuracy: 0.7981 - val_loss: 0.6321 - val_accuracy: 0.7833\n",
      "Epoch 64/100\n",
      "17/17 [==============================] - 2s 94ms/step - loss: 0.6249 - accuracy: 0.8000 - val_loss: 0.6262 - val_accuracy: 0.7917\n",
      "Epoch 65/100\n",
      "17/17 [==============================] - 2s 95ms/step - loss: 0.6179 - accuracy: 0.8019 - val_loss: 0.6202 - val_accuracy: 0.8000\n",
      "Epoch 66/100\n",
      "17/17 [==============================] - 2s 95ms/step - loss: 0.6113 - accuracy: 0.8028 - val_loss: 0.6146 - val_accuracy: 0.8000\n",
      "Epoch 67/100\n",
      "17/17 [==============================] - 2s 95ms/step - loss: 0.6046 - accuracy: 0.8074 - val_loss: 0.6093 - val_accuracy: 0.8000\n",
      "Epoch 68/100\n",
      "17/17 [==============================] - 2s 95ms/step - loss: 0.5984 - accuracy: 0.8093 - val_loss: 0.6043 - val_accuracy: 0.8000\n",
      "Epoch 69/100\n",
      "17/17 [==============================] - 2s 94ms/step - loss: 0.5923 - accuracy: 0.8102 - val_loss: 0.5989 - val_accuracy: 0.8000\n",
      "Epoch 70/100\n",
      "17/17 [==============================] - 2s 95ms/step - loss: 0.5861 - accuracy: 0.8148 - val_loss: 0.5945 - val_accuracy: 0.8000\n",
      "Epoch 71/100\n",
      "17/17 [==============================] - 2s 95ms/step - loss: 0.5803 - accuracy: 0.8157 - val_loss: 0.5899 - val_accuracy: 0.8000\n",
      "Epoch 72/100\n",
      "17/17 [==============================] - 2s 96ms/step - loss: 0.5745 - accuracy: 0.8176 - val_loss: 0.5855 - val_accuracy: 0.8083\n",
      "Epoch 73/100\n",
      "17/17 [==============================] - 2s 94ms/step - loss: 0.5688 - accuracy: 0.8185 - val_loss: 0.5810 - val_accuracy: 0.8083\n",
      "Epoch 74/100\n",
      "17/17 [==============================] - 2s 95ms/step - loss: 0.5634 - accuracy: 0.8185 - val_loss: 0.5771 - val_accuracy: 0.8167\n",
      "Epoch 75/100\n",
      "17/17 [==============================] - 2s 95ms/step - loss: 0.5583 - accuracy: 0.8194 - val_loss: 0.5726 - val_accuracy: 0.8167\n",
      "Epoch 76/100\n",
      "17/17 [==============================] - 2s 95ms/step - loss: 0.5530 - accuracy: 0.8222 - val_loss: 0.5688 - val_accuracy: 0.8167\n",
      "Epoch 77/100\n",
      "17/17 [==============================] - 2s 95ms/step - loss: 0.5479 - accuracy: 0.8222 - val_loss: 0.5642 - val_accuracy: 0.8167\n",
      "Epoch 78/100\n",
      "17/17 [==============================] - 2s 95ms/step - loss: 0.5430 - accuracy: 0.8231 - val_loss: 0.5606 - val_accuracy: 0.8167\n",
      "Epoch 79/100\n",
      "17/17 [==============================] - 2s 94ms/step - loss: 0.5382 - accuracy: 0.8231 - val_loss: 0.5565 - val_accuracy: 0.8250\n",
      "Epoch 80/100\n",
      "17/17 [==============================] - 2s 94ms/step - loss: 0.5332 - accuracy: 0.8231 - val_loss: 0.5529 - val_accuracy: 0.8250\n",
      "Epoch 81/100\n",
      "17/17 [==============================] - 2s 95ms/step - loss: 0.5288 - accuracy: 0.8241 - val_loss: 0.5500 - val_accuracy: 0.8250\n",
      "Epoch 82/100\n",
      "17/17 [==============================] - 2s 94ms/step - loss: 0.5242 - accuracy: 0.8241 - val_loss: 0.5459 - val_accuracy: 0.8250\n",
      "Epoch 83/100\n",
      "17/17 [==============================] - 2s 95ms/step - loss: 0.5196 - accuracy: 0.8269 - val_loss: 0.5433 - val_accuracy: 0.8250\n",
      "Epoch 84/100\n",
      "17/17 [==============================] - 2s 95ms/step - loss: 0.5155 - accuracy: 0.8296 - val_loss: 0.5397 - val_accuracy: 0.8250\n",
      "Epoch 85/100\n",
      "17/17 [==============================] - 2s 95ms/step - loss: 0.5112 - accuracy: 0.8287 - val_loss: 0.5366 - val_accuracy: 0.8250\n",
      "Epoch 86/100\n",
      "17/17 [==============================] - 2s 95ms/step - loss: 0.5067 - accuracy: 0.8306 - val_loss: 0.5340 - val_accuracy: 0.8250\n",
      "Epoch 87/100\n",
      "17/17 [==============================] - 2s 96ms/step - loss: 0.5028 - accuracy: 0.8324 - val_loss: 0.5312 - val_accuracy: 0.8333\n",
      "Epoch 88/100\n",
      "17/17 [==============================] - 2s 95ms/step - loss: 0.4985 - accuracy: 0.8333 - val_loss: 0.5281 - val_accuracy: 0.8333\n",
      "Epoch 89/100\n",
      "17/17 [==============================] - 2s 95ms/step - loss: 0.4942 - accuracy: 0.8352 - val_loss: 0.5257 - val_accuracy: 0.8333\n",
      "Epoch 90/100\n",
      "17/17 [==============================] - 2s 95ms/step - loss: 0.4903 - accuracy: 0.8380 - val_loss: 0.5224 - val_accuracy: 0.8417\n",
      "Epoch 91/100\n",
      "17/17 [==============================] - 2s 95ms/step - loss: 0.4862 - accuracy: 0.8380 - val_loss: 0.5192 - val_accuracy: 0.8417\n",
      "Epoch 92/100\n",
      "17/17 [==============================] - 2s 95ms/step - loss: 0.4821 - accuracy: 0.8380 - val_loss: 0.5164 - val_accuracy: 0.8500\n",
      "Epoch 93/100\n",
      "17/17 [==============================] - 2s 99ms/step - loss: 0.4783 - accuracy: 0.8389 - val_loss: 0.5119 - val_accuracy: 0.8417\n",
      "Epoch 94/100\n",
      "17/17 [==============================] - 2s 95ms/step - loss: 0.4744 - accuracy: 0.8389 - val_loss: 0.5093 - val_accuracy: 0.8417\n",
      "Epoch 95/100\n",
      "17/17 [==============================] - 2s 95ms/step - loss: 0.4707 - accuracy: 0.8417 - val_loss: 0.5053 - val_accuracy: 0.8417\n",
      "Epoch 96/100\n",
      "17/17 [==============================] - 2s 100ms/step - loss: 0.4668 - accuracy: 0.8426 - val_loss: 0.5022 - val_accuracy: 0.8417\n",
      "Epoch 97/100\n",
      "17/17 [==============================] - 2s 100ms/step - loss: 0.4636 - accuracy: 0.8435 - val_loss: 0.4990 - val_accuracy: 0.8417\n",
      "Epoch 98/100\n",
      "17/17 [==============================] - 2s 95ms/step - loss: 0.4596 - accuracy: 0.8454 - val_loss: 0.4968 - val_accuracy: 0.8583\n",
      "Epoch 99/100\n",
      "17/17 [==============================] - 2s 95ms/step - loss: 0.4560 - accuracy: 0.8481 - val_loss: 0.4936 - val_accuracy: 0.8500\n",
      "Epoch 100/100\n",
      "17/17 [==============================] - 2s 95ms/step - loss: 0.4525 - accuracy: 0.8481 - val_loss: 0.4909 - val_accuracy: 0.8500\n"
     ]
    }
   ],
   "source": [
    "train_dataset = tf.data.Dataset.from_tensor_slices((X_train, Y_train)).batch(64)\n",
    "test_dataset = tf.data.Dataset.from_tensor_slices((X_test, Y_test)).batch(64)\n",
    "history = conv_model.fit(train_dataset, epochs=100, validation_data=test_dataset)"
   ]
  },
  {
   "cell_type": "markdown",
   "metadata": {},
   "source": [
    "<a name='5'></a>\n",
    "## 5 - History Object \n",
    "\n",
    "The history object is an output of the `.fit()` operation, and provides a record of all the loss and metric values in memory. It's stored as a dictionary that you can retrieve at `history.history`: "
   ]
  },
  {
   "cell_type": "code",
   "execution_count": 16,
   "metadata": {},
   "outputs": [
    {
     "data": {
      "text/plain": [
       "{'loss': [1.8002046346664429,\n",
       "  1.7905538082122803,\n",
       "  1.7878870964050293,\n",
       "  1.784379482269287,\n",
       "  1.781600832939148,\n",
       "  1.7778055667877197,\n",
       "  1.7733482122421265,\n",
       "  1.7679895162582397,\n",
       "  1.7613414525985718,\n",
       "  1.7527308464050293,\n",
       "  1.7420164346694946,\n",
       "  1.7280857563018799,\n",
       "  1.7111456394195557,\n",
       "  1.6898524761199951,\n",
       "  1.664224624633789,\n",
       "  1.631830096244812,\n",
       "  1.596253514289856,\n",
       "  1.5563232898712158,\n",
       "  1.5134004354476929,\n",
       "  1.4666361808776855,\n",
       "  1.42222261428833,\n",
       "  1.3763139247894287,\n",
       "  1.330333948135376,\n",
       "  1.28739595413208,\n",
       "  1.2460036277770996,\n",
       "  1.2071001529693604,\n",
       "  1.1716550588607788,\n",
       "  1.138405203819275,\n",
       "  1.1065237522125244,\n",
       "  1.0769842863082886,\n",
       "  1.049071192741394,\n",
       "  1.0229917764663696,\n",
       "  0.9992526769638062,\n",
       "  0.977020800113678,\n",
       "  0.9560704827308655,\n",
       "  0.9361436367034912,\n",
       "  0.9177173376083374,\n",
       "  0.9002756476402283,\n",
       "  0.8839221596717834,\n",
       "  0.8685171604156494,\n",
       "  0.8535826206207275,\n",
       "  0.8391294479370117,\n",
       "  0.8253728151321411,\n",
       "  0.8121891021728516,\n",
       "  0.7995601892471313,\n",
       "  0.7874916791915894,\n",
       "  0.7756199836730957,\n",
       "  0.7643628120422363,\n",
       "  0.7536910176277161,\n",
       "  0.7432239651679993,\n",
       "  0.7329308390617371,\n",
       "  0.7228006720542908,\n",
       "  0.7133492231369019,\n",
       "  0.7039676308631897,\n",
       "  0.6947776675224304,\n",
       "  0.6862517595291138,\n",
       "  0.6777174472808838,\n",
       "  0.669465959072113,\n",
       "  0.6613982319831848,\n",
       "  0.6536874175071716,\n",
       "  0.6462263464927673,\n",
       "  0.6388717293739319,\n",
       "  0.6317232847213745,\n",
       "  0.6249169111251831,\n",
       "  0.6179308891296387,\n",
       "  0.6113404631614685,\n",
       "  0.6046043038368225,\n",
       "  0.5984289646148682,\n",
       "  0.5922740697860718,\n",
       "  0.5861095190048218,\n",
       "  0.5802849531173706,\n",
       "  0.5745120048522949,\n",
       "  0.5688081383705139,\n",
       "  0.5633938312530518,\n",
       "  0.5582890510559082,\n",
       "  0.5529736876487732,\n",
       "  0.5478789210319519,\n",
       "  0.5429670810699463,\n",
       "  0.5382295250892639,\n",
       "  0.5332434773445129,\n",
       "  0.5288450717926025,\n",
       "  0.5242480039596558,\n",
       "  0.5196095705032349,\n",
       "  0.5154680013656616,\n",
       "  0.5111731886863708,\n",
       "  0.5066581964492798,\n",
       "  0.5027898550033569,\n",
       "  0.4985218048095703,\n",
       "  0.49417972564697266,\n",
       "  0.49032625555992126,\n",
       "  0.48616066575050354,\n",
       "  0.48211973905563354,\n",
       "  0.4783422350883484,\n",
       "  0.47436222434043884,\n",
       "  0.4706759452819824,\n",
       "  0.4667789340019226,\n",
       "  0.4636031687259674,\n",
       "  0.45956823229789734,\n",
       "  0.45602095127105713,\n",
       "  0.45246753096580505],\n",
       " 'accuracy': [0.16944444179534912,\n",
       "  0.19074073433876038,\n",
       "  0.20092593133449554,\n",
       "  0.2361111044883728,\n",
       "  0.25462964177131653,\n",
       "  0.26759257912635803,\n",
       "  0.2620370388031006,\n",
       "  0.27037036418914795,\n",
       "  0.28703704476356506,\n",
       "  0.2898148000240326,\n",
       "  0.3157407343387604,\n",
       "  0.35185185074806213,\n",
       "  0.37037035822868347,\n",
       "  0.3898148238658905,\n",
       "  0.4175925850868225,\n",
       "  0.43796294927597046,\n",
       "  0.46388888359069824,\n",
       "  0.4749999940395355,\n",
       "  0.49537035822868347,\n",
       "  0.5092592835426331,\n",
       "  0.5240740776062012,\n",
       "  0.539814829826355,\n",
       "  0.5648148059844971,\n",
       "  0.5814814567565918,\n",
       "  0.5981481671333313,\n",
       "  0.604629635810852,\n",
       "  0.6129629611968994,\n",
       "  0.6212962865829468,\n",
       "  0.6277777552604675,\n",
       "  0.6407407522201538,\n",
       "  0.6481481194496155,\n",
       "  0.6583333611488342,\n",
       "  0.6620370149612427,\n",
       "  0.6703703999519348,\n",
       "  0.6824073791503906,\n",
       "  0.6898148059844971,\n",
       "  0.7037037014961243,\n",
       "  0.7083333134651184,\n",
       "  0.7120370268821716,\n",
       "  0.7157407402992249,\n",
       "  0.7212963104248047,\n",
       "  0.7277777791023254,\n",
       "  0.7351852059364319,\n",
       "  0.7370370626449585,\n",
       "  0.7425925731658936,\n",
       "  0.7444444298744202,\n",
       "  0.7490741014480591,\n",
       "  0.7509258985519409,\n",
       "  0.7518518567085266,\n",
       "  0.7564814686775208,\n",
       "  0.7620370388031006,\n",
       "  0.7675926089286804,\n",
       "  0.7712963223457336,\n",
       "  0.7740740776062012,\n",
       "  0.7777777910232544,\n",
       "  0.779629647731781,\n",
       "  0.7824074029922485,\n",
       "  0.7888888716697693,\n",
       "  0.7907407283782959,\n",
       "  0.7925925850868225,\n",
       "  0.7944444417953491,\n",
       "  0.7972221970558167,\n",
       "  0.7981481552124023,\n",
       "  0.800000011920929,\n",
       "  0.8018518686294556,\n",
       "  0.8027777671813965,\n",
       "  0.8074073791503906,\n",
       "  0.8092592358589172,\n",
       "  0.8101851940155029,\n",
       "  0.8148148059844971,\n",
       "  0.8157407641410828,\n",
       "  0.8175926208496094,\n",
       "  0.8185185194015503,\n",
       "  0.8185185194015503,\n",
       "  0.8194444179534912,\n",
       "  0.8222222328186035,\n",
       "  0.8222222328186035,\n",
       "  0.8231481313705444,\n",
       "  0.8231481313705444,\n",
       "  0.8231481313705444,\n",
       "  0.8240740895271301,\n",
       "  0.8240740895271301,\n",
       "  0.8268518447875977,\n",
       "  0.8296296000480652,\n",
       "  0.8287037014961243,\n",
       "  0.8305555582046509,\n",
       "  0.8324074149131775,\n",
       "  0.8333333134651184,\n",
       "  0.835185170173645,\n",
       "  0.8379629850387573,\n",
       "  0.8379629850387573,\n",
       "  0.8379629850387573,\n",
       "  0.8388888835906982,\n",
       "  0.8388888835906982,\n",
       "  0.8416666388511658,\n",
       "  0.8425925970077515,\n",
       "  0.8435184955596924,\n",
       "  0.845370352268219,\n",
       "  0.8481481671333313,\n",
       "  0.8481481671333313],\n",
       " 'val_loss': [1.7892826795578003,\n",
       "  1.7858036756515503,\n",
       "  1.7824218273162842,\n",
       "  1.779376745223999,\n",
       "  1.7754709720611572,\n",
       "  1.7708662748336792,\n",
       "  1.7657665014266968,\n",
       "  1.7591801881790161,\n",
       "  1.7511708736419678,\n",
       "  1.740697979927063,\n",
       "  1.726609706878662,\n",
       "  1.709531307220459,\n",
       "  1.6886789798736572,\n",
       "  1.6625876426696777,\n",
       "  1.6311661005020142,\n",
       "  1.5920337438583374,\n",
       "  1.5509719848632812,\n",
       "  1.5047742128372192,\n",
       "  1.4568639993667603,\n",
       "  1.4055317640304565,\n",
       "  1.3587145805358887,\n",
       "  1.311651587486267,\n",
       "  1.2687160968780518,\n",
       "  1.228211522102356,\n",
       "  1.1900502443313599,\n",
       "  1.1539833545684814,\n",
       "  1.120058298110962,\n",
       "  1.0882747173309326,\n",
       "  1.057705283164978,\n",
       "  1.0306278467178345,\n",
       "  1.005075454711914,\n",
       "  0.9812902808189392,\n",
       "  0.9597495794296265,\n",
       "  0.9394127130508423,\n",
       "  0.9204658269882202,\n",
       "  0.902628481388092,\n",
       "  0.8855524659156799,\n",
       "  0.8698922395706177,\n",
       "  0.8552892208099365,\n",
       "  0.8415748476982117,\n",
       "  0.8282972574234009,\n",
       "  0.8153265118598938,\n",
       "  0.8030551075935364,\n",
       "  0.7912595272064209,\n",
       "  0.7799179553985596,\n",
       "  0.7691435217857361,\n",
       "  0.7587553858757019,\n",
       "  0.7486597895622253,\n",
       "  0.7391079068183899,\n",
       "  0.7301114201545715,\n",
       "  0.7211803197860718,\n",
       "  0.7123504281044006,\n",
       "  0.7040328979492188,\n",
       "  0.6959258317947388,\n",
       "  0.6879472136497498,\n",
       "  0.6803246140480042,\n",
       "  0.6724987030029297,\n",
       "  0.6650165319442749,\n",
       "  0.6576998233795166,\n",
       "  0.651073694229126,\n",
       "  0.6445560455322266,\n",
       "  0.6382725834846497,\n",
       "  0.632095456123352,\n",
       "  0.6261884570121765,\n",
       "  0.6202327013015747,\n",
       "  0.6145606637001038,\n",
       "  0.6093452572822571,\n",
       "  0.6043159365653992,\n",
       "  0.5989072322845459,\n",
       "  0.5944684147834778,\n",
       "  0.5898998379707336,\n",
       "  0.5855000615119934,\n",
       "  0.5810453295707703,\n",
       "  0.577078640460968,\n",
       "  0.5726264119148254,\n",
       "  0.5687509179115295,\n",
       "  0.5642157196998596,\n",
       "  0.5605899095535278,\n",
       "  0.5564752221107483,\n",
       "  0.5528764128684998,\n",
       "  0.5499735474586487,\n",
       "  0.5459401607513428,\n",
       "  0.5433176755905151,\n",
       "  0.539728045463562,\n",
       "  0.5366169214248657,\n",
       "  0.5340355038642883,\n",
       "  0.5312121510505676,\n",
       "  0.5280638933181763,\n",
       "  0.525650143623352,\n",
       "  0.5223813652992249,\n",
       "  0.5191674828529358,\n",
       "  0.5163912773132324,\n",
       "  0.5119364857673645,\n",
       "  0.5092939734458923,\n",
       "  0.5053250193595886,\n",
       "  0.502161979675293,\n",
       "  0.4989767372608185,\n",
       "  0.49682947993278503,\n",
       "  0.4935801923274994,\n",
       "  0.4908725917339325],\n",
       " 'val_accuracy': [0.125,\n",
       "  0.24166665971279144,\n",
       "  0.2916666567325592,\n",
       "  0.28333333134651184,\n",
       "  0.3166666626930237,\n",
       "  0.3083333373069763,\n",
       "  0.3166666626930237,\n",
       "  0.34166666865348816,\n",
       "  0.32499998807907104,\n",
       "  0.3333333432674408,\n",
       "  0.3916666805744171,\n",
       "  0.3916666805744171,\n",
       "  0.4416666626930237,\n",
       "  0.42500001192092896,\n",
       "  0.44999998807907104,\n",
       "  0.4749999940395355,\n",
       "  0.5166666507720947,\n",
       "  0.550000011920929,\n",
       "  0.5583333373069763,\n",
       "  0.5666666626930237,\n",
       "  0.5666666626930237,\n",
       "  0.6000000238418579,\n",
       "  0.6000000238418579,\n",
       "  0.6083333492279053,\n",
       "  0.6166666746139526,\n",
       "  0.6166666746139526,\n",
       "  0.625,\n",
       "  0.6333333253860474,\n",
       "  0.6333333253860474,\n",
       "  0.6416666507720947,\n",
       "  0.6333333253860474,\n",
       "  0.6416666507720947,\n",
       "  0.6666666865348816,\n",
       "  0.6666666865348816,\n",
       "  0.6833333373069763,\n",
       "  0.6833333373069763,\n",
       "  0.699999988079071,\n",
       "  0.6916666626930237,\n",
       "  0.6833333373069763,\n",
       "  0.6833333373069763,\n",
       "  0.6916666626930237,\n",
       "  0.6916666626930237,\n",
       "  0.699999988079071,\n",
       "  0.699999988079071,\n",
       "  0.7166666388511658,\n",
       "  0.7166666388511658,\n",
       "  0.7166666388511658,\n",
       "  0.7250000238418579,\n",
       "  0.7250000238418579,\n",
       "  0.7333333492279053,\n",
       "  0.7333333492279053,\n",
       "  0.75,\n",
       "  0.75,\n",
       "  0.75,\n",
       "  0.75,\n",
       "  0.7583333253860474,\n",
       "  0.7583333253860474,\n",
       "  0.7583333253860474,\n",
       "  0.7583333253860474,\n",
       "  0.7583333253860474,\n",
       "  0.7583333253860474,\n",
       "  0.7833333611488342,\n",
       "  0.7833333611488342,\n",
       "  0.7916666865348816,\n",
       "  0.800000011920929,\n",
       "  0.800000011920929,\n",
       "  0.800000011920929,\n",
       "  0.800000011920929,\n",
       "  0.800000011920929,\n",
       "  0.800000011920929,\n",
       "  0.800000011920929,\n",
       "  0.8083333373069763,\n",
       "  0.8083333373069763,\n",
       "  0.8166666626930237,\n",
       "  0.8166666626930237,\n",
       "  0.8166666626930237,\n",
       "  0.8166666626930237,\n",
       "  0.8166666626930237,\n",
       "  0.824999988079071,\n",
       "  0.824999988079071,\n",
       "  0.824999988079071,\n",
       "  0.824999988079071,\n",
       "  0.824999988079071,\n",
       "  0.824999988079071,\n",
       "  0.824999988079071,\n",
       "  0.824999988079071,\n",
       "  0.8333333134651184,\n",
       "  0.8333333134651184,\n",
       "  0.8333333134651184,\n",
       "  0.8416666388511658,\n",
       "  0.8416666388511658,\n",
       "  0.8500000238418579,\n",
       "  0.8416666388511658,\n",
       "  0.8416666388511658,\n",
       "  0.8416666388511658,\n",
       "  0.8416666388511658,\n",
       "  0.8416666388511658,\n",
       "  0.8583333492279053,\n",
       "  0.8500000238418579,\n",
       "  0.8500000238418579]}"
      ]
     },
     "execution_count": 16,
     "metadata": {},
     "output_type": "execute_result"
    }
   ],
   "source": [
    "history.history"
   ]
  },
  {
   "cell_type": "markdown",
   "metadata": {},
   "source": [
    "Now visualize the loss over time using `history.history`: "
   ]
  },
  {
   "cell_type": "code",
   "execution_count": 17,
   "metadata": {},
   "outputs": [
    {
     "data": {
      "text/plain": [
       "[Text(0, 0.5, 'Accuracy'), Text(0.5, 0, 'Epoch')]"
      ]
     },
     "execution_count": 17,
     "metadata": {},
     "output_type": "execute_result"
    },
    {
     "data": {
      "image/png": "[encoded data removed]",
      "text/plain": [
       "<Figure size 864x576 with 1 Axes>"
      ]
     },
     "metadata": {
      "needs_background": "light"
     },
     "output_type": "display_data"
    },
    {
     "data": {
      "image/png": "[encoded data removed]",
      "text/plain": [
       "<Figure size 864x576 with 1 Axes>"
      ]
     },
     "metadata": {
      "needs_background": "light"
     },
     "output_type": "display_data"
    }
   ],
   "source": [
    "# The history.history[\"loss\"] entry is a dictionary with as many values as epochs that the\n",
    "# model was trained on. \n",
    "df_loss_acc = pd.DataFrame(history.history)\n",
    "df_loss= df_loss_acc[['loss','val_loss']]\n",
    "df_loss.rename(columns={'loss':'train','val_loss':'validation'},inplace=True)\n",
    "df_acc= df_loss_acc[['accuracy','val_accuracy']]\n",
    "df_acc.rename(columns={'accuracy':'train','val_accuracy':'validation'},inplace=True)\n",
    "df_loss.plot(title='Model loss',figsize=(12,8)).set(xlabel='Epoch',ylabel='Loss')\n",
    "df_acc.plot(title='Model Accuracy',figsize=(12,8)).set(xlabel='Epoch',ylabel='Accuracy')"
   ]
  },
  {
   "cell_type": "markdown",
   "metadata": {},
   "source": [
    "**Congratulations**! You've finished the assignment and built two models: One that recognizes  smiles, and another that recognizes SIGN language with almost 80% accuracy on the test set. In addition to that, you now also understand the applications of two Keras APIs: Sequential and Functional. Nicely done! \n",
    "\n",
    "By now, you know a bit about how the Functional API works and may have glimpsed the possibilities. In your next assignment, you'll really get a feel for its power when you get the opportunity to build a very deep ConvNet, using ResNets! "
   ]
  },
  {
   "cell_type": "markdown",
   "metadata": {},
   "source": [
    "<a name='6'></a>\n",
    "## 6 - Bibliography\n",
    "\n",
    "You're always encouraged to read the official documentation. To that end, you can find the docs for the Sequential and Functional APIs here: \n",
    "\n",
    "https://www.tensorflow.org/guide/keras/sequential_model\n",
    "\n",
    "https://www.tensorflow.org/guide/keras/functional"
   ]
  }
 ],
 "metadata": {
  "coursera": {
   "course_slug": "convolutional-neural-networks",
   "graded_item_id": "bwbJV",
   "launcher_item_id": "0TkXB"
  },
  "kernelspec": {
   "display_name": "Python 3",
   "language": "python",
   "name": "python3"
  },
  "language_info": {
   "codemirror_mode": {
    "name": "ipython",
    "version": 3
   },
   "file_extension": ".py",
   "mimetype": "text/x-python",
   "name": "python",
   "nbconvert_exporter": "python",
   "pygments_lexer": "ipython3",
   "version": "3.7.6"
  }
 },
 "nbformat": 4,
 "nbformat_minor": 2
}
